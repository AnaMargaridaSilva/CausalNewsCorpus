{
 "cells": [
  {
   "cell_type": "markdown",
   "id": "a0c7e900",
   "metadata": {},
   "source": [
    "Causal News Corpus uses English sentences from Subtask 4 of the CASE Multilingual Protest News Detection.\n",
    "\n",
    "* Github: https://github.com/emerging-welfare/case-2022-multilingual-event\n",
    "* Paper: https://aclanthology.org/2021.case-1.11.pdf\n",
    "\n",
    "Specifically, Subtask 4 works on Event Extraction, i.e. to extract event entity spans such as triggers and event arguments, from text. \n",
    "\n",
    "In this notebook, we add the Event information for our data, to provide more information for researchers to investigate further.\n",
    "\n",
    "Note: We only do not release the Events for the test set because the Subtask 4 shared task is an on-going annually."
   ]
  },
  {
   "cell_type": "code",
   "execution_count": 1,
   "id": "7f5be154",
   "metadata": {},
   "outputs": [],
   "source": [
    "import os\n",
    "import re\n",
    "import pandas as pd"
   ]
  },
  {
   "cell_type": "code",
   "execution_count": 2,
   "id": "40aca253",
   "metadata": {
    "scrolled": true
   },
   "outputs": [
    {
     "name": "stdout",
     "output_type": "stream",
     "text": [
      "3248\n",
      "['The', 'State', 'alleged', 'they', 'hacked', 'Sabata', 'Petros', 'Chale', ',', '39', ',', 'to', 'death', 'in', 'Marikana', 'West', ',', 'on', 'December', '8', ',', '2016', ',', 'allegedly', 'over', 'the', 'allocation', 'of', 'low', 'cost', '(', 'RDP', ')', 'houses', 'at', 'Marikana', 'West', 'Extension', '2', '.']\n",
      "['O', 'O', 'O', 'O', 'B-trigger', 'B-target', 'I-target', 'I-target', 'O', 'O', 'O', 'O', 'O', 'O', 'B-place', 'I-place', 'O', 'B-etime', 'I-etime', 'I-etime', 'I-etime', 'I-etime', 'O', 'O', 'O', 'O', 'O', 'O', 'O', 'O', 'O', 'O', 'O', 'O', 'O', 'B-place', 'I-place', 'B-fname', 'I-fname', 'O']\n",
      "[0, 325, 650, 975, 1300, 1625, 1950, 2275, 2600, 2925, 3248]\n"
     ]
    },
    {
     "data": {
      "text/html": [
       "<div>\n",
       "<style scoped>\n",
       "    .dataframe tbody tr th:only-of-type {\n",
       "        vertical-align: middle;\n",
       "    }\n",
       "\n",
       "    .dataframe tbody tr th {\n",
       "        vertical-align: top;\n",
       "    }\n",
       "\n",
       "    .dataframe thead th {\n",
       "        text-align: right;\n",
       "    }\n",
       "</style>\n",
       "<table border=\"1\" class=\"dataframe\">\n",
       "  <thead>\n",
       "    <tr style=\"text-align: right;\">\n",
       "      <th></th>\n",
       "      <th>set</th>\n",
       "      <th>text</th>\n",
       "      <th>tags</th>\n",
       "    </tr>\n",
       "  </thead>\n",
       "  <tbody>\n",
       "    <tr>\n",
       "      <th>0</th>\n",
       "      <td>train_01.txt</td>\n",
       "      <td>[The, State, alleged, they, hacked, Sabata, Pe...</td>\n",
       "      <td>[O, O, O, O, B-trigger, B-target, I-target, I-...</td>\n",
       "    </tr>\n",
       "    <tr>\n",
       "      <th>1</th>\n",
       "      <td>train_01.txt</td>\n",
       "      <td>[Chale, was, allegedly, chased, by, a, group, ...</td>\n",
       "      <td>[B-target, O, O, B-trigger, O, O, B-participan...</td>\n",
       "    </tr>\n",
       "    <tr>\n",
       "      <th>2</th>\n",
       "      <td>train_01.txt</td>\n",
       "      <td>[His, attackers, allegedly, drank, his, blood, .]</td>\n",
       "      <td>[O, B-participant, O, B-trigger, I-trigger, I-...</td>\n",
       "    </tr>\n",
       "    <tr>\n",
       "      <th>3</th>\n",
       "      <td>train_01.txt</td>\n",
       "      <td>[Tip, asked, Mathunjwa, why, he, had, not, ``,...</td>\n",
       "      <td>[O, O, O, O, O, O, O, O, O, O, O, O, O, B-trig...</td>\n",
       "    </tr>\n",
       "    <tr>\n",
       "      <th>4</th>\n",
       "      <td>train_01.txt</td>\n",
       "      <td>[``, It, the, protest, was, something, which, ...</td>\n",
       "      <td>[O, O, O, B-trigger, O, O, O, O, O, O, O, O, O]</td>\n",
       "    </tr>\n",
       "    <tr>\n",
       "      <th>...</th>\n",
       "      <td>...</td>\n",
       "      <td>...</td>\n",
       "      <td>...</td>\n",
       "    </tr>\n",
       "    <tr>\n",
       "      <th>3243</th>\n",
       "      <td>train_10.txt</td>\n",
       "      <td>[Police, spokesman, ,, Lieutenant, Colonel, Th...</td>\n",
       "      <td>[O, O, O, O, O, O, O, O, O, O, O, B-etime, O, ...</td>\n",
       "    </tr>\n",
       "    <tr>\n",
       "      <th>3244</th>\n",
       "      <td>train_10.txt</td>\n",
       "      <td>[National, Freedom, Party, spokesman, ,, Sabel...</td>\n",
       "      <td>[O, O, O, O, O, O, O, O, O, O, O, O, O, O, O, ...</td>\n",
       "    </tr>\n",
       "    <tr>\n",
       "      <th>3245</th>\n",
       "      <td>train_10.txt</td>\n",
       "      <td>[He, described, the, shooting, as, ``, evil, '...</td>\n",
       "      <td>[O, O, O, B-trigger, O, O, O, O, O]</td>\n",
       "    </tr>\n",
       "    <tr>\n",
       "      <th>3246</th>\n",
       "      <td>train_10.txt</td>\n",
       "      <td>[On, Sunday, ,, three, explosions, in, the, so...</td>\n",
       "      <td>[B-etime, I-etime, O, O, B-trigger, O, O, O, O...</td>\n",
       "    </tr>\n",
       "    <tr>\n",
       "      <th>3247</th>\n",
       "      <td>train_10.txt</td>\n",
       "      <td>[Uighur, groups, abroad, say, the, clashes, ar...</td>\n",
       "      <td>[B-participant, O, O, O, O, B-trigger, O, O, O...</td>\n",
       "    </tr>\n",
       "  </tbody>\n",
       "</table>\n",
       "<p>3248 rows × 3 columns</p>\n",
       "</div>"
      ],
      "text/plain": [
       "               set                                               text  \\\n",
       "0     train_01.txt  [The, State, alleged, they, hacked, Sabata, Pe...   \n",
       "1     train_01.txt  [Chale, was, allegedly, chased, by, a, group, ...   \n",
       "2     train_01.txt  [His, attackers, allegedly, drank, his, blood, .]   \n",
       "3     train_01.txt  [Tip, asked, Mathunjwa, why, he, had, not, ``,...   \n",
       "4     train_01.txt  [``, It, the, protest, was, something, which, ...   \n",
       "...            ...                                                ...   \n",
       "3243  train_10.txt  [Police, spokesman, ,, Lieutenant, Colonel, Th...   \n",
       "3244  train_10.txt  [National, Freedom, Party, spokesman, ,, Sabel...   \n",
       "3245  train_10.txt  [He, described, the, shooting, as, ``, evil, '...   \n",
       "3246  train_10.txt  [On, Sunday, ,, three, explosions, in, the, so...   \n",
       "3247  train_10.txt  [Uighur, groups, abroad, say, the, clashes, ar...   \n",
       "\n",
       "                                                   tags  \n",
       "0     [O, O, O, O, B-trigger, B-target, I-target, I-...  \n",
       "1     [B-target, O, O, B-trigger, O, O, B-participan...  \n",
       "2     [O, B-participant, O, B-trigger, I-trigger, I-...  \n",
       "3     [O, O, O, O, O, O, O, O, O, O, O, O, O, B-trig...  \n",
       "4       [O, O, O, B-trigger, O, O, O, O, O, O, O, O, O]  \n",
       "...                                                 ...  \n",
       "3243  [O, O, O, O, O, O, O, O, O, O, O, B-etime, O, ...  \n",
       "3244  [O, O, O, O, O, O, O, O, O, O, O, O, O, O, O, ...  \n",
       "3245                [O, O, O, B-trigger, O, O, O, O, O]  \n",
       "3246  [B-etime, I-etime, O, O, B-trigger, O, O, O, O...  \n",
       "3247  [B-participant, O, O, O, O, B-trigger, O, O, O...  \n",
       "\n",
       "[3248 rows x 3 columns]"
      ]
     },
     "execution_count": 2,
     "metadata": {},
     "output_type": "execute_result"
    }
   ],
   "source": [
    "### Extract infos into List of Sentences & Tags\n",
    "def get_slices(num_examples, num_sets=10):\n",
    "    multiples = round(num_examples/num_sets)\n",
    "    slice_list = [i*multiples for i in range(num_sets)]\n",
    "    slice_list.append(num_examples)\n",
    "    return slice_list\n",
    "    \n",
    "\n",
    "def get_original(txt_file, num_sets=10):\n",
    "    sentences = []\n",
    "    tags = []\n",
    "\n",
    "    with open(txt_file, encoding='utf-8-sig') as file:\n",
    "        for line in file:\n",
    "            if line.strip() == '':\n",
    "                # append\n",
    "                sentences.append(curr_words)\n",
    "                tags.append(curr_tags)\n",
    "                curr_words = []\n",
    "                curr_tags = []\n",
    "            else:\n",
    "                word, tag = line.strip().split('\\t')\n",
    "                if word == 'SAMPLE_START':                \n",
    "                    curr_words = []\n",
    "                    curr_tags = []\n",
    "                elif word == '[SEP]':\n",
    "                    # append\n",
    "                    sentences.append(curr_words)\n",
    "                    tags.append(curr_tags)\n",
    "                    curr_words = []\n",
    "                    curr_tags = []\n",
    "                else:\n",
    "                    word = word.replace(u'\\ufeff', '').replace(r'[^\\x00-\\x7f]', '')\n",
    "                    curr_words.append(word)\n",
    "                    curr_tags.append(tag)\n",
    "\n",
    "    sentences.append(curr_words)\n",
    "    tags.append(curr_tags)\n",
    "\n",
    "    print(len(sentences))\n",
    "    print(sentences[0])\n",
    "    print(tags[0])\n",
    "\n",
    "\n",
    "    ### Split into Sets\n",
    "    slice_list = get_slices(len(sentences), num_sets)\n",
    "    print(slice_list)\n",
    "\n",
    "    \n",
    "    ### Format into DataFrame\n",
    "    df = []\n",
    "    for set_ in range(num_sets):\n",
    "        start = slice_list[set_]\n",
    "        end = slice_list[set_+1]\n",
    "        for i in range(start,end):\n",
    "            df.append(['train_{:02}.txt'.format(set_+1), sentences[i], tags[i]])      \n",
    "    assert(len(df)==len(sentences))\n",
    "\n",
    "\n",
    "    df = pd.DataFrame(df, columns=['set','text','tags'])\n",
    "    return df\n",
    "\n",
    "\n",
    "# Get \"en-train.txt\" from CASE organizers\n",
    "df = get_original(txt_file = r\"D:\\61 Challenges\\2022_CASE_\\FLAT_Annotation\\data\\en-train.txt\", num_sets=10)\n",
    "df"
   ]
  },
  {
   "cell_type": "code",
   "execution_count": 3,
   "id": "9994e166",
   "metadata": {},
   "outputs": [
    {
     "data": {
      "text/html": [
       "<div>\n",
       "<style scoped>\n",
       "    .dataframe tbody tr th:only-of-type {\n",
       "        vertical-align: middle;\n",
       "    }\n",
       "\n",
       "    .dataframe tbody tr th {\n",
       "        vertical-align: top;\n",
       "    }\n",
       "\n",
       "    .dataframe thead th {\n",
       "        text-align: right;\n",
       "    }\n",
       "</style>\n",
       "<table border=\"1\" class=\"dataframe\">\n",
       "  <thead>\n",
       "    <tr style=\"text-align: right;\">\n",
       "      <th></th>\n",
       "      <th>index</th>\n",
       "      <th>text</th>\n",
       "      <th>label</th>\n",
       "      <th>set</th>\n",
       "      <th>sub</th>\n",
       "      <th>eg</th>\n",
       "    </tr>\n",
       "  </thead>\n",
       "  <tbody>\n",
       "    <tr>\n",
       "      <th>0</th>\n",
       "      <td>train_01_0_1437</td>\n",
       "      <td>The State alleged they hacked Sabata Petros Ch...</td>\n",
       "      <td>1</td>\n",
       "      <td>train_01</td>\n",
       "      <td>0</td>\n",
       "      <td>1437</td>\n",
       "    </tr>\n",
       "    <tr>\n",
       "      <th>1</th>\n",
       "      <td>train_01_1_3212</td>\n",
       "      <td>Chale was allegedly chased by a group of about...</td>\n",
       "      <td>0</td>\n",
       "      <td>train_01</td>\n",
       "      <td>1</td>\n",
       "      <td>3212</td>\n",
       "    </tr>\n",
       "    <tr>\n",
       "      <th>2</th>\n",
       "      <td>train_01_2_3319</td>\n",
       "      <td>His attackers allegedly drank his blood .</td>\n",
       "      <td>0</td>\n",
       "      <td>train_01</td>\n",
       "      <td>2</td>\n",
       "      <td>3319</td>\n",
       "    </tr>\n",
       "    <tr>\n",
       "      <th>3</th>\n",
       "      <td>train_01_3_1008</td>\n",
       "      <td>Tip asked Mathunjwa why he had not `` explicit...</td>\n",
       "      <td>0</td>\n",
       "      <td>train_01</td>\n",
       "      <td>3</td>\n",
       "      <td>1008</td>\n",
       "    </tr>\n",
       "    <tr>\n",
       "      <th>4</th>\n",
       "      <td>train_01_4_2655</td>\n",
       "      <td>`` It the protest was something which happened...</td>\n",
       "      <td>0</td>\n",
       "      <td>train_01</td>\n",
       "      <td>4</td>\n",
       "      <td>2655</td>\n",
       "    </tr>\n",
       "    <tr>\n",
       "      <th>...</th>\n",
       "      <td>...</td>\n",
       "      <td>...</td>\n",
       "      <td>...</td>\n",
       "      <td>...</td>\n",
       "      <td>...</td>\n",
       "      <td>...</td>\n",
       "    </tr>\n",
       "    <tr>\n",
       "      <th>3067</th>\n",
       "      <td>train_09_B_157_2377</td>\n",
       "      <td>The first was shot , the second beaten to deat...</td>\n",
       "      <td>0</td>\n",
       "      <td>train_09_B</td>\n",
       "      <td>157</td>\n",
       "      <td>2377</td>\n",
       "    </tr>\n",
       "    <tr>\n",
       "      <th>3068</th>\n",
       "      <td>train_09_B_158_2503</td>\n",
       "      <td>Soon after reports of Mr. Mony 's statement st...</td>\n",
       "      <td>0</td>\n",
       "      <td>train_09_B</td>\n",
       "      <td>158</td>\n",
       "      <td>2503</td>\n",
       "    </tr>\n",
       "    <tr>\n",
       "      <th>3069</th>\n",
       "      <td>train_09_B_159_2947</td>\n",
       "      <td>Ancheri Baby was shot dead on November 13 , 19...</td>\n",
       "      <td>0</td>\n",
       "      <td>train_09_B</td>\n",
       "      <td>159</td>\n",
       "      <td>2947</td>\n",
       "    </tr>\n",
       "    <tr>\n",
       "      <th>3070</th>\n",
       "      <td>train_09_B_160_479</td>\n",
       "      <td>Mullanchira Mathai was beaten to death on Janu...</td>\n",
       "      <td>1</td>\n",
       "      <td>train_09_B</td>\n",
       "      <td>160</td>\n",
       "      <td>479</td>\n",
       "    </tr>\n",
       "    <tr>\n",
       "      <th>3071</th>\n",
       "      <td>train_09_B_161_769</td>\n",
       "      <td>Muttukad Nanappan was stabbed to death on June...</td>\n",
       "      <td>1</td>\n",
       "      <td>train_09_B</td>\n",
       "      <td>161</td>\n",
       "      <td>769</td>\n",
       "    </tr>\n",
       "  </tbody>\n",
       "</table>\n",
       "<p>3072 rows × 6 columns</p>\n",
       "</div>"
      ],
      "text/plain": [
       "                    index                                               text  \\\n",
       "0         train_01_0_1437  The State alleged they hacked Sabata Petros Ch...   \n",
       "1         train_01_1_3212  Chale was allegedly chased by a group of about...   \n",
       "2         train_01_2_3319          His attackers allegedly drank his blood .   \n",
       "3         train_01_3_1008  Tip asked Mathunjwa why he had not `` explicit...   \n",
       "4         train_01_4_2655  `` It the protest was something which happened...   \n",
       "...                   ...                                                ...   \n",
       "3067  train_09_B_157_2377  The first was shot , the second beaten to deat...   \n",
       "3068  train_09_B_158_2503  Soon after reports of Mr. Mony 's statement st...   \n",
       "3069  train_09_B_159_2947  Ancheri Baby was shot dead on November 13 , 19...   \n",
       "3070   train_09_B_160_479  Mullanchira Mathai was beaten to death on Janu...   \n",
       "3071   train_09_B_161_769  Muttukad Nanappan was stabbed to death on June...   \n",
       "\n",
       "      label         set  sub    eg  \n",
       "0         1    train_01    0  1437  \n",
       "1         0    train_01    1  3212  \n",
       "2         0    train_01    2  3319  \n",
       "3         0    train_01    3  1008  \n",
       "4         0    train_01    4  2655  \n",
       "...     ...         ...  ...   ...  \n",
       "3067      0  train_09_B  157  2377  \n",
       "3068      0  train_09_B  158  2503  \n",
       "3069      0  train_09_B  159  2947  \n",
       "3070      1  train_09_B  160   479  \n",
       "3071      1  train_09_B  161   769  \n",
       "\n",
       "[3072 rows x 6 columns]"
      ]
     },
     "execution_count": 3,
     "metadata": {},
     "output_type": "execute_result"
    }
   ],
   "source": [
    "### Run for \"train_subtask1\" and \"dev_subtask1\"\n",
    "main_df = pd.read_csv(\"../data/V2/train_subtask1.csv\", encoding='utf-8-sig')\n",
    "main_df['text'] = main_df['text'].apply(lambda x: x.replace(u'\\ufeff', '').replace(r'[^\\x00-\\x7f]', ''))\n",
    "main_df['set'] = main_df['index'].apply(lambda x: '_'.join(x.split('_')[0:3]) if ('A' in x) or ('B' in x) else '_'.join(x.split('_')[0:2])) #.str.split('_',expand=True)\n",
    "main_df['sub'] = main_df['index'].apply(lambda x: x.split('_')[-2]).astype(int)\n",
    "main_df['eg'] = main_df['index'].apply(lambda x: x.split('_')[-1]).astype(int)\n",
    "main_df = main_df.sort_values(by=['set','sub']).reset_index(drop=True)\n",
    "main_df"
   ]
  },
  {
   "cell_type": "code",
   "execution_count": 4,
   "id": "e0f0a345",
   "metadata": {
    "scrolled": true
   },
   "outputs": [
    {
     "data": {
      "text/html": [
       "<div>\n",
       "<style scoped>\n",
       "    .dataframe tbody tr th:only-of-type {\n",
       "        vertical-align: middle;\n",
       "    }\n",
       "\n",
       "    .dataframe tbody tr th {\n",
       "        vertical-align: top;\n",
       "    }\n",
       "\n",
       "    .dataframe thead th {\n",
       "        text-align: right;\n",
       "    }\n",
       "</style>\n",
       "<table border=\"1\" class=\"dataframe\">\n",
       "  <thead>\n",
       "    <tr style=\"text-align: right;\">\n",
       "      <th></th>\n",
       "      <th>index</th>\n",
       "      <th>text</th>\n",
       "      <th>label</th>\n",
       "      <th>events</th>\n",
       "    </tr>\n",
       "  </thead>\n",
       "  <tbody>\n",
       "    <tr>\n",
       "      <th>0</th>\n",
       "      <td>train_01_0_1437</td>\n",
       "      <td>The State alleged they hacked Sabata Petros Ch...</td>\n",
       "      <td>1</td>\n",
       "      <td>[O, O, O, O, B-trigger, B-target, I-target, I-...</td>\n",
       "    </tr>\n",
       "    <tr>\n",
       "      <th>1</th>\n",
       "      <td>train_01_1_3212</td>\n",
       "      <td>Chale was allegedly chased by a group of about...</td>\n",
       "      <td>0</td>\n",
       "      <td>[B-target, O, O, B-trigger, O, O, B-participan...</td>\n",
       "    </tr>\n",
       "    <tr>\n",
       "      <th>2</th>\n",
       "      <td>train_01_2_3319</td>\n",
       "      <td>His attackers allegedly drank his blood .</td>\n",
       "      <td>0</td>\n",
       "      <td>[O, B-participant, O, B-trigger, I-trigger, I-...</td>\n",
       "    </tr>\n",
       "    <tr>\n",
       "      <th>3</th>\n",
       "      <td>train_01_3_1008</td>\n",
       "      <td>Tip asked Mathunjwa why he had not `` explicit...</td>\n",
       "      <td>0</td>\n",
       "      <td>[O, O, O, O, O, O, O, O, O, O, O, O, O, B-trig...</td>\n",
       "    </tr>\n",
       "    <tr>\n",
       "      <th>4</th>\n",
       "      <td>train_01_4_2655</td>\n",
       "      <td>`` It the protest was something which happened...</td>\n",
       "      <td>0</td>\n",
       "      <td>[O, O, O, B-trigger, O, O, O, O, O, O, O, O, O]</td>\n",
       "    </tr>\n",
       "  </tbody>\n",
       "</table>\n",
       "</div>"
      ],
      "text/plain": [
       "             index                                               text  label  \\\n",
       "0  train_01_0_1437  The State alleged they hacked Sabata Petros Ch...      1   \n",
       "1  train_01_1_3212  Chale was allegedly chased by a group of about...      0   \n",
       "2  train_01_2_3319          His attackers allegedly drank his blood .      0   \n",
       "3  train_01_3_1008  Tip asked Mathunjwa why he had not `` explicit...      0   \n",
       "4  train_01_4_2655  `` It the protest was something which happened...      0   \n",
       "\n",
       "                                              events  \n",
       "0  [O, O, O, O, B-trigger, B-target, I-target, I-...  \n",
       "1  [B-target, O, O, B-trigger, O, O, B-participan...  \n",
       "2  [O, B-participant, O, B-trigger, I-trigger, I-...  \n",
       "3  [O, O, O, O, O, O, O, O, O, O, O, O, O, B-trig...  \n",
       "4    [O, O, O, B-trigger, O, O, O, O, O, O, O, O, O]  "
      ]
     },
     "execution_count": 4,
     "metadata": {},
     "output_type": "execute_result"
    }
   ],
   "source": [
    "tags = []\n",
    "for i,row in main_df.iterrows():\n",
    "    row_text = re.sub(r'[^\\x00-\\x7f]',r'', row.text).strip()\n",
    "    \n",
    "    ### filter to rows with same 'set' and 'subset', e.g. \"train_01\" and \"120\"\n",
    "    t_set = '_'.join(str(row['set']).split('_')[0:2]) # drop \"_A\", \"_B\"\n",
    "    sent_id = int(row['sub'])\n",
    "    if 'B' in str(row['set']):\n",
    "        sent_id+=163 # hard coded, train_09_A + train_09_B== train_09! (in order)\n",
    "    focus_row = df[df['set']=='{}.txt'.format(t_set)].iloc[sent_id]\n",
    "    curr_text = ' '.join(focus_row['text'])\n",
    "    curr_text = re.sub(r'[^\\x00-\\x7f]',r'', curr_text)\n",
    "    curr_tag = focus_row['tags']\n",
    "    ### check if text tallies exactly or not\n",
    "    if row_text == curr_text:\n",
    "        ### if exact match, we take tags as is\n",
    "        tags.append(curr_tag)\n",
    "    elif row_text in curr_text:\n",
    "        ### if NOT exact match, we adjust/remove tokens\n",
    "        _words = []\n",
    "        _tags = []\n",
    "        word_pointer = 0\n",
    "        keep_words = row_text.split(' ')\n",
    "        for j,word in enumerate(curr_text.split(' ')):\n",
    "            if len(_words)==len(keep_words):\n",
    "                break\n",
    "            if word==keep_words[word_pointer]:\n",
    "                _words.append(word)\n",
    "                _tags.append(curr_tag[j])\n",
    "                word_pointer+=1\n",
    "        assert(_words==keep_words)\n",
    "        tags.append(_tags)\n",
    "    else:\n",
    "        ### this should not occur\n",
    "        \n",
    "        raise ValueError(\"Not Implemented!\")\n",
    "        \n",
    "main_df['events'] = tags\n",
    "main_df = main_df[['index','text','label','events']]\n",
    "main_df.head()"
   ]
  },
  {
   "cell_type": "code",
   "execution_count": 5,
   "id": "e67caeb1",
   "metadata": {},
   "outputs": [],
   "source": [
    "main_df.to_csv(\n",
    "    \"../data/V2/train_subtask1_wevents.csv\", \n",
    "    encoding='utf-8-sig', index=False\n",
    ")"
   ]
  },
  {
   "cell_type": "markdown",
   "id": "b77ebecc",
   "metadata": {},
   "source": [
    "### Analyze Event Information x Causal Label\n",
    "Check if there is a correlation between occurence of some events and causal labels"
   ]
  },
  {
   "cell_type": "code",
   "execution_count": 6,
   "id": "0d6bea68",
   "metadata": {},
   "outputs": [
    {
     "data": {
      "text/plain": [
       "{'O',\n",
       " 'etime',\n",
       " 'fname',\n",
       " 'organizer',\n",
       " 'participant',\n",
       " 'place',\n",
       " 'target',\n",
       " 'trigger'}"
      ]
     },
     "execution_count": 6,
     "metadata": {},
     "output_type": "execute_result"
    }
   ],
   "source": [
    "from collections import Counter\n",
    "\n",
    "events_dict = dict(Counter([item for sublist in main_df['events'] for item in sublist]))\n",
    "events = set([i.split('-')[-1] for i in events_dict.keys()])\n",
    "events"
   ]
  },
  {
   "cell_type": "code",
   "execution_count": 7,
   "id": "8693c1e7",
   "metadata": {},
   "outputs": [
    {
     "data": {
      "text/plain": [
       "{'O': 71752,\n",
       " 'B-trigger': 4135,\n",
       " 'B-target': 1309,\n",
       " 'I-target': 1032,\n",
       " 'B-place': 1459,\n",
       " 'I-place': 262,\n",
       " 'B-etime': 1096,\n",
       " 'I-etime': 1437,\n",
       " 'B-fname': 1089,\n",
       " 'I-fname': 2398,\n",
       " 'B-participant': 2354,\n",
       " 'I-trigger': 1273,\n",
       " 'I-participant': 684,\n",
       " 'B-organizer': 1126,\n",
       " 'I-organizer': 1335}"
      ]
     },
     "execution_count": 7,
     "metadata": {},
     "output_type": "execute_result"
    }
   ],
   "source": [
    "events_dict"
   ]
  },
  {
   "cell_type": "code",
   "execution_count": 8,
   "id": "312cf18f",
   "metadata": {},
   "outputs": [
    {
     "data": {
      "text/html": [
       "<div>\n",
       "<style scoped>\n",
       "    .dataframe tbody tr th:only-of-type {\n",
       "        vertical-align: middle;\n",
       "    }\n",
       "\n",
       "    .dataframe tbody tr th {\n",
       "        vertical-align: top;\n",
       "    }\n",
       "\n",
       "    .dataframe thead th {\n",
       "        text-align: right;\n",
       "    }\n",
       "</style>\n",
       "<table border=\"1\" class=\"dataframe\">\n",
       "  <thead>\n",
       "    <tr style=\"text-align: right;\">\n",
       "      <th></th>\n",
       "      <th>O</th>\n",
       "      <th>target</th>\n",
       "      <th>place</th>\n",
       "      <th>etime</th>\n",
       "      <th>organizer</th>\n",
       "      <th>participant</th>\n",
       "      <th>trigger</th>\n",
       "      <th>fname</th>\n",
       "      <th>total</th>\n",
       "    </tr>\n",
       "  </thead>\n",
       "  <tbody>\n",
       "    <tr>\n",
       "      <th>0</th>\n",
       "      <td>0</td>\n",
       "      <td>1</td>\n",
       "      <td>2</td>\n",
       "      <td>1</td>\n",
       "      <td>0</td>\n",
       "      <td>0</td>\n",
       "      <td>1</td>\n",
       "      <td>1</td>\n",
       "      <td>6</td>\n",
       "    </tr>\n",
       "    <tr>\n",
       "      <th>1</th>\n",
       "      <td>0</td>\n",
       "      <td>1</td>\n",
       "      <td>0</td>\n",
       "      <td>0</td>\n",
       "      <td>0</td>\n",
       "      <td>2</td>\n",
       "      <td>2</td>\n",
       "      <td>0</td>\n",
       "      <td>5</td>\n",
       "    </tr>\n",
       "    <tr>\n",
       "      <th>2</th>\n",
       "      <td>0</td>\n",
       "      <td>0</td>\n",
       "      <td>0</td>\n",
       "      <td>0</td>\n",
       "      <td>0</td>\n",
       "      <td>1</td>\n",
       "      <td>1</td>\n",
       "      <td>0</td>\n",
       "      <td>2</td>\n",
       "    </tr>\n",
       "    <tr>\n",
       "      <th>3</th>\n",
       "      <td>0</td>\n",
       "      <td>0</td>\n",
       "      <td>0</td>\n",
       "      <td>0</td>\n",
       "      <td>0</td>\n",
       "      <td>1</td>\n",
       "      <td>2</td>\n",
       "      <td>0</td>\n",
       "      <td>3</td>\n",
       "    </tr>\n",
       "    <tr>\n",
       "      <th>4</th>\n",
       "      <td>0</td>\n",
       "      <td>0</td>\n",
       "      <td>0</td>\n",
       "      <td>0</td>\n",
       "      <td>0</td>\n",
       "      <td>0</td>\n",
       "      <td>1</td>\n",
       "      <td>0</td>\n",
       "      <td>1</td>\n",
       "    </tr>\n",
       "    <tr>\n",
       "      <th>...</th>\n",
       "      <td>...</td>\n",
       "      <td>...</td>\n",
       "      <td>...</td>\n",
       "      <td>...</td>\n",
       "      <td>...</td>\n",
       "      <td>...</td>\n",
       "      <td>...</td>\n",
       "      <td>...</td>\n",
       "      <td>...</td>\n",
       "    </tr>\n",
       "    <tr>\n",
       "      <th>3067</th>\n",
       "      <td>0</td>\n",
       "      <td>0</td>\n",
       "      <td>0</td>\n",
       "      <td>0</td>\n",
       "      <td>0</td>\n",
       "      <td>0</td>\n",
       "      <td>3</td>\n",
       "      <td>0</td>\n",
       "      <td>3</td>\n",
       "    </tr>\n",
       "    <tr>\n",
       "      <th>3068</th>\n",
       "      <td>0</td>\n",
       "      <td>4</td>\n",
       "      <td>0</td>\n",
       "      <td>1</td>\n",
       "      <td>0</td>\n",
       "      <td>0</td>\n",
       "      <td>1</td>\n",
       "      <td>0</td>\n",
       "      <td>6</td>\n",
       "    </tr>\n",
       "    <tr>\n",
       "      <th>3069</th>\n",
       "      <td>0</td>\n",
       "      <td>1</td>\n",
       "      <td>0</td>\n",
       "      <td>1</td>\n",
       "      <td>0</td>\n",
       "      <td>0</td>\n",
       "      <td>1</td>\n",
       "      <td>0</td>\n",
       "      <td>3</td>\n",
       "    </tr>\n",
       "    <tr>\n",
       "      <th>3070</th>\n",
       "      <td>0</td>\n",
       "      <td>1</td>\n",
       "      <td>0</td>\n",
       "      <td>1</td>\n",
       "      <td>1</td>\n",
       "      <td>1</td>\n",
       "      <td>1</td>\n",
       "      <td>0</td>\n",
       "      <td>5</td>\n",
       "    </tr>\n",
       "    <tr>\n",
       "      <th>3071</th>\n",
       "      <td>0</td>\n",
       "      <td>1</td>\n",
       "      <td>0</td>\n",
       "      <td>1</td>\n",
       "      <td>0</td>\n",
       "      <td>0</td>\n",
       "      <td>1</td>\n",
       "      <td>0</td>\n",
       "      <td>3</td>\n",
       "    </tr>\n",
       "  </tbody>\n",
       "</table>\n",
       "<p>3072 rows × 9 columns</p>\n",
       "</div>"
      ],
      "text/plain": [
       "      O  target  place  etime  organizer  participant  trigger  fname  total\n",
       "0     0       1      2      1          0            0        1      1      6\n",
       "1     0       1      0      0          0            2        2      0      5\n",
       "2     0       0      0      0          0            1        1      0      2\n",
       "3     0       0      0      0          0            1        2      0      3\n",
       "4     0       0      0      0          0            0        1      0      1\n",
       "...  ..     ...    ...    ...        ...          ...      ...    ...    ...\n",
       "3067  0       0      0      0          0            0        3      0      3\n",
       "3068  0       4      0      1          0            0        1      0      6\n",
       "3069  0       1      0      1          0            0        1      0      3\n",
       "3070  0       1      0      1          1            1        1      0      5\n",
       "3071  0       1      0      1          0            0        1      0      3\n",
       "\n",
       "[3072 rows x 9 columns]"
      ]
     },
     "execution_count": 8,
     "metadata": {},
     "output_type": "execute_result"
    }
   ],
   "source": [
    "event_counts = []\n",
    "for tags in main_df['events']:\n",
    "    _event_counts = []\n",
    "    for e in events:\n",
    "        _event_counts.append(tags.count(f'B-{e}'))\n",
    "    event_counts.append(_event_counts)\n",
    "\n",
    "events_df = pd.DataFrame(event_counts, columns=events)\n",
    "events_df['total'] = events_df.sum(axis=1)\n",
    "events_df"
   ]
  },
  {
   "cell_type": "code",
   "execution_count": 9,
   "id": "eb9c7863",
   "metadata": {},
   "outputs": [
    {
     "data": {
      "text/plain": [
       "O                  0\n",
       "target          1309\n",
       "place           1459\n",
       "etime           1096\n",
       "organizer       1126\n",
       "participant     2354\n",
       "trigger         4135\n",
       "fname           1089\n",
       "total          12568\n",
       "dtype: int64"
      ]
     },
     "execution_count": 9,
     "metadata": {},
     "output_type": "execute_result"
    }
   ],
   "source": [
    "events_df.sum(axis=0)"
   ]
  },
  {
   "cell_type": "code",
   "execution_count": 10,
   "id": "a9970cff",
   "metadata": {},
   "outputs": [],
   "source": [
    "import seaborn as sns\n",
    "import matplotlib.pyplot as plt"
   ]
  },
  {
   "cell_type": "code",
   "execution_count": 11,
   "id": "820f51e7",
   "metadata": {},
   "outputs": [
    {
     "data": {
      "image/png": "[encoded data removed]",
      "text/plain": [
       "<Figure size 432x288 with 1 Axes>"
      ]
     },
     "metadata": {
      "needs_background": "light"
     },
     "output_type": "display_data"
    },
    {
     "data": {
      "image/png": "[encoded data removed]",
      "text/plain": [
       "<Figure size 432x288 with 1 Axes>"
      ]
     },
     "metadata": {
      "needs_background": "light"
     },
     "output_type": "display_data"
    },
    {
     "data": {
      "image/png": "[encoded data removed]",
      "text/plain": [
       "<Figure size 432x288 with 1 Axes>"
      ]
     },
     "metadata": {
      "needs_background": "light"
     },
     "output_type": "display_data"
    },
    {
     "data": {
      "image/png": "[encoded data removed]",
      "text/plain": [
       "<Figure size 432x288 with 1 Axes>"
      ]
     },
     "metadata": {
      "needs_background": "light"
     },
     "output_type": "display_data"
    },
    {
     "data": {
      "image/png": "[encoded data removed]",
      "text/plain": [
       "<Figure size 432x288 with 1 Axes>"
      ]
     },
     "metadata": {
      "needs_background": "light"
     },
     "output_type": "display_data"
    },
    {
     "data": {
      "image/png": "[encoded data removed]",
      "text/plain": [
       "<Figure size 432x288 with 1 Axes>"
      ]
     },
     "metadata": {
      "needs_background": "light"
     },
     "output_type": "display_data"
    },
    {
     "data": {
      "image/png": "[encoded data removed]",
      "text/plain": [
       "<Figure size 432x288 with 1 Axes>"
      ]
     },
     "metadata": {
      "needs_background": "light"
     },
     "output_type": "display_data"
    },
    {
     "data": {
      "image/png": "[encoded data removed]",
      "text/plain": [
       "<Figure size 432x288 with 1 Axes>"
      ]
     },
     "metadata": {
      "needs_background": "light"
     },
     "output_type": "display_data"
    }
   ],
   "source": [
    "for e in list(events):\n",
    "    sns.countplot(x=events_df[e], hue=main_df['label'])\n",
    "    plt.show()"
   ]
  },
  {
   "cell_type": "code",
   "execution_count": 13,
   "id": "3ef32972",
   "metadata": {},
   "outputs": [
    {
     "data": {
      "image/png": "[encoded data removed]",
      "text/plain": [
       "<Figure size 432x288 with 1 Axes>"
      ]
     },
     "metadata": {
      "needs_background": "light"
     },
     "output_type": "display_data"
    }
   ],
   "source": [
    "ax = sns.countplot(x=events_df['total'], hue=main_df['label'])\n",
    "ax.set(xlabel='No. of Events in Sentence', ylabel='Count')\n",
    "plt.legend(labels=['Non-causal', 'Causal'])\n",
    "plt.show()"
   ]
  },
  {
   "cell_type": "code",
   "execution_count": null,
   "id": "a4b7ca37",
   "metadata": {},
   "outputs": [],
   "source": []
  }
 ],
 "metadata": {
  "kernelspec": {
   "display_name": "Python 3 (ipykernel)",
   "language": "python",
   "name": "python3"
  },
  "language_info": {
   "codemirror_mode": {
    "name": "ipython",
    "version": 3
   },
   "file_extension": ".py",
   "mimetype": "text/x-python",
   "name": "python",
   "nbconvert_exporter": "python",
   "pygments_lexer": "ipython3",
   "version": "3.7.12"
  }
 },
 "nbformat": 4,
 "nbformat_minor": 5
}
